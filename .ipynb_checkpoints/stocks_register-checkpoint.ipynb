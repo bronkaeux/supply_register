{
 "cells": [
  {
   "cell_type": "code",
   "execution_count": 1,
   "id": "6ddc3ea6",
   "metadata": {
    "ExecuteTime": {
     "end_time": "2023-09-20T14:37:01.412095Z",
     "start_time": "2023-09-20T14:37:00.467182Z"
    }
   },
   "outputs": [],
   "source": [
    "import pandas as pd\n",
    "import openpyxl as ox"
   ]
  },
  {
   "cell_type": "markdown",
   "id": "af2bceb7",
   "metadata": {},
   "source": [
    "## Creating a column heading template for the output file"
   ]
  },
  {
   "cell_type": "code",
   "execution_count": 2,
   "id": "22c0dbb0",
   "metadata": {
    "ExecuteTime": {
     "end_time": "2023-09-20T14:37:01.634711Z",
     "start_time": "2023-09-20T14:37:01.414103Z"
    }
   },
   "outputs": [],
   "source": [
    "model_column = pd.read_excel('model.xlsx', sheet_name='АВТО', header=1, usecols=\"B:X\")"
   ]
  },
  {
   "cell_type": "code",
   "execution_count": 3,
   "id": "ae1ce162",
   "metadata": {
    "ExecuteTime": {
     "end_time": "2023-09-20T14:37:01.650063Z",
     "start_time": "2023-09-20T14:37:01.637212Z"
    }
   },
   "outputs": [],
   "source": [
    "columns_total = list(model_column.iloc[0])"
   ]
  },
  {
   "cell_type": "markdown",
   "id": "06022331",
   "metadata": {},
   "source": [
    "## Processing incoming excel files: data cleaning and bringing data to the required format\n",
    "### Stock 1"
   ]
  },
  {
   "cell_type": "code",
   "execution_count": 4,
   "id": "ad7d8b6a",
   "metadata": {
    "ExecuteTime": {
     "end_time": "2023-09-20T14:37:01.697106Z",
     "start_time": "2023-09-20T14:37:01.653190Z"
    }
   },
   "outputs": [],
   "source": [
    "# loading data from the 1st rigth sheet \n",
    "stock_1 = pd.read_excel('stock1.xlsx', sheet_name=-1, header=10, usecols=\"B,F:I\")\n",
    "\n",
    "# renaming columns\n",
    "stock_1 = stock_1.rename({'Unnamed: 1': 'Дата', 'Кол-во (т).1': 'вес', '№ накл': 'Ж.д. накладная / ТТН',\n",
    "                    '№авто': 'Ваг./маш.', 'Грузополучатель ': 'Грузополучатель'}, axis=1)\n",
    "\n",
    "# removing blank lines in a column 'Ж.д. накладная / ТТН'\n",
    "stock_1 = stock_1.dropna(subset=['Ж.д. накладная / ТТН'])\n",
    "\n",
    "# converting the date to the required format\n",
    "stock_1['Дата'] = pd.to_datetime(stock_1['Дата'], errors='ignore')\n",
    "stock_1['Дата'] = stock_1['Дата'].dt.strftime('%d.%m.%Y')\n",
    "\n",
    "# creating and filling the columns according to the input data\n",
    "stock_1['Грузоотправитель'] = 'Склад № 1'\n",
    "stock_1['Закупка товара осуществляется от компании (внутренняя)'] = 'ООО \"Наша Компания\"'\n",
    "stock_1['Покупатель'] = stock_1['Грузополучатель']\n",
    "stock_1['Портландцемент Марки'] = 'Цемент ЦЕМ I 42,5Н Навал'\n",
    "stock_1['Поставщик'] = 'перевалка'"
   ]
  },
  {
   "cell_type": "code",
   "execution_count": 5,
   "id": "ea965c9b",
   "metadata": {
    "ExecuteTime": {
     "end_time": "2023-09-20T14:37:01.712461Z",
     "start_time": "2023-09-20T14:37:01.699025Z"
    }
   },
   "outputs": [],
   "source": [
    "# calculating empty columns\n",
    "missing_col_s1 = list(set(columns_total) - set(stock_1.columns))"
   ]
  },
  {
   "cell_type": "code",
   "execution_count": 6,
   "id": "36263d51",
   "metadata": {
    "ExecuteTime": {
     "end_time": "2023-09-20T14:37:01.728447Z",
     "start_time": "2023-09-20T14:37:01.714460Z"
    }
   },
   "outputs": [],
   "source": [
    "# filling the columns with NaT values\n",
    "for i in missing_col_s1:\n",
    "    stock_1[i] = pd.NaT "
   ]
  },
  {
   "cell_type": "code",
   "execution_count": 7,
   "id": "50f8422a",
   "metadata": {
    "ExecuteTime": {
     "end_time": "2023-09-20T14:37:01.743715Z",
     "start_time": "2023-09-20T14:37:01.730221Z"
    }
   },
   "outputs": [],
   "source": [
    "# assigning the required column order\n",
    "stock_1 = stock_1[columns_total]"
   ]
  },
  {
   "cell_type": "markdown",
   "id": "6c78ebb5",
   "metadata": {},
   "source": [
    "### Stock 2"
   ]
  },
  {
   "cell_type": "code",
   "execution_count": 8,
   "id": "9a79a6f6",
   "metadata": {
    "ExecuteTime": {
     "end_time": "2023-09-20T14:37:01.870261Z",
     "start_time": "2023-09-20T14:37:01.745857Z"
    }
   },
   "outputs": [],
   "source": [
    "# loading data from two right sheets, as goods are loaded from two silos\n",
    "sheets = [-2, -1]\n",
    "dfs = []\n",
    "\n",
    "for name in sheets:\n",
    "    df = pd.read_excel(\"stock2.xlsx\", sheet_name=name, header=9, usecols=\"F:H, J, L\")\n",
    "    df = df[1:]\n",
    "    \n",
    "    # renaming columns\n",
    "    df = df.rename({'Unnamed: 5': 'Дата', 'Кол-во (т).1': 'вес', 'Unnamed: 7': 'Ж.д. накладная / ТТН',\n",
    "                    '№авто': 'Ваг./маш.', 'Грузополучатель ': 'Грузополучатель'}, axis=1)\n",
    "    \n",
    "    # removing blank lines in a column 'Ж.д. накладная / ТТН'\n",
    "    df = df.dropna(subset=['Ваг./маш.'])\n",
    "    \n",
    "    # converting the date to the required format\n",
    "    df['Дата'] = pd.to_datetime(df['Дата'], errors='ignore')\n",
    "    df['Дата'] = df['Дата'].dt.strftime('%d.%m.%Y')\n",
    "    \n",
    "    dfs.append(df)\n",
    "    \n",
    "# data concatenation\n",
    "stock_2 = pd.concat([dfs[0], dfs[1]], axis=0)\n",
    "stock_2 = stock_2.sort_values('Дата', ascending=True)\n",
    "\n",
    "# creating and filling the columns according to the input data\n",
    "stock_2['Грузоотправитель'] = 'Склад № 2'\n",
    "stock_2['Закупка товара осуществляется от компании (внутренняя)'] = 'ООО \"Наша Компания\"'\n",
    "stock_2['Покупатель'] = stock_2['Грузополучатель']\n",
    "stock_2['Поставщик'] = 'перевалка'"
   ]
  },
  {
   "cell_type": "code",
   "execution_count": 9,
   "id": "59683034",
   "metadata": {
    "ExecuteTime": {
     "end_time": "2023-09-20T14:37:01.885592Z",
     "start_time": "2023-09-20T14:37:01.872551Z"
    }
   },
   "outputs": [],
   "source": [
    "# calculating empty columns\n",
    "missing_col_s2 = list(set(columns_total) - set(stock_2.columns))"
   ]
  },
  {
   "cell_type": "code",
   "execution_count": 10,
   "id": "f7b4ee42",
   "metadata": {
    "ExecuteTime": {
     "end_time": "2023-09-20T14:37:01.900997Z",
     "start_time": "2023-09-20T14:37:01.888105Z"
    }
   },
   "outputs": [],
   "source": [
    "# filling the columns with NaT values\n",
    "for i in missing_col_s2:\n",
    "    stock_2[i] = pd.NaT "
   ]
  },
  {
   "cell_type": "code",
   "execution_count": 11,
   "id": "34a5ff23",
   "metadata": {
    "ExecuteTime": {
     "end_time": "2023-09-20T14:37:01.916820Z",
     "start_time": "2023-09-20T14:37:01.903632Z"
    }
   },
   "outputs": [],
   "source": [
    "# assigning the required column order\n",
    "stock_2 = stock_2[columns_total]"
   ]
  },
  {
   "cell_type": "markdown",
   "id": "2ec0768f",
   "metadata": {},
   "source": [
    "### Stock 3"
   ]
  },
  {
   "cell_type": "code",
   "execution_count": 12,
   "id": "bb901ce0",
   "metadata": {
    "ExecuteTime": {
     "end_time": "2023-09-20T14:37:01.963551Z",
     "start_time": "2023-09-20T14:37:01.918827Z"
    }
   },
   "outputs": [],
   "source": [
    "# loading data from the first left sheet\n",
    "stock_3 = pd.read_excel(\"stock3.xlsx\", sheet_name=0, header=3)\n",
    "\n",
    "# renaming columns\n",
    "stock_3 = stock_3.rename({'Номер накладной': 'Ж.д. накладная / ТТН', 'Дата накладной': 'Дата',\n",
    "                    'Номенклатура': 'Портландцемент Марки', 'Количество в основной ЕИ': 'вес',\n",
    "                    'Номер машины': 'Ваг./маш.'}, axis=1)\n",
    "\n",
    "# removing the column 'Ф.И.О. водителя'\n",
    "stock_3 = stock_3.drop('Ф.И.О. водителя', axis=1)\n",
    "\n",
    "# converting the date to the required format\n",
    "stock_3['Дата'] = pd.to_datetime(stock_3['Дата'], errors='ignore')\n",
    "stock_3['Дата'] = stock_3['Дата'].dt.strftime('%d.%m.%Y')\n",
    "stock_3 = stock_3.sort_values('Дата', ascending=True)\n",
    "\n",
    "# creating and filling the columns according to the input data\n",
    "stock_3['Договор закупки №'] = 'ЦЕМ/147-2021'\n",
    "stock_3['Договор продажи заключен от компании:'] = 'ООО \"Наша Компания\"'\n",
    "stock_3['Закупка товара осуществляется от компании (внутренняя)'] = 'ООО \"Вторая Наша Компания\"'\n",
    "stock_3['Покупатель'] = stock_3['Грузополучатель']\n",
    "stock_3['Поставщик'] = 'ООО \"Наш Поставщик\"'"
   ]
  },
  {
   "cell_type": "code",
   "execution_count": 13,
   "id": "65c9b611",
   "metadata": {
    "ExecuteTime": {
     "end_time": "2023-09-20T14:37:01.979520Z",
     "start_time": "2023-09-20T14:37:01.967555Z"
    }
   },
   "outputs": [],
   "source": [
    "# calculating empty columns\n",
    "missing_col_s3 = list(set(columns_total) - set(stock_3.columns))"
   ]
  },
  {
   "cell_type": "code",
   "execution_count": 14,
   "id": "413ff6c0",
   "metadata": {
    "ExecuteTime": {
     "end_time": "2023-09-20T14:37:01.995461Z",
     "start_time": "2023-09-20T14:37:01.981505Z"
    }
   },
   "outputs": [],
   "source": [
    "# filling the columns with NaT values\n",
    "for i in missing_col_s3:\n",
    "    stock_3[i] = pd.NaT "
   ]
  },
  {
   "cell_type": "code",
   "execution_count": 15,
   "id": "f08d8ec2",
   "metadata": {
    "ExecuteTime": {
     "end_time": "2023-09-20T14:37:02.011404Z",
     "start_time": "2023-09-20T14:37:01.997451Z"
    }
   },
   "outputs": [],
   "source": [
    "# assigning the required column order\n",
    "stock_3 = stock_3[columns_total]"
   ]
  },
  {
   "cell_type": "markdown",
   "id": "cbd33388",
   "metadata": {},
   "source": [
    "### Stock 4"
   ]
  },
  {
   "cell_type": "code",
   "execution_count": 16,
   "id": "1e26e310",
   "metadata": {
    "ExecuteTime": {
     "end_time": "2023-09-20T14:37:02.137714Z",
     "start_time": "2023-09-20T14:37:02.013526Z"
    }
   },
   "outputs": [],
   "source": [
    "# loading data from two right sheets, as goods are loaded from two silos\n",
    "sheets = [\"мордва\", \"питер\"]\n",
    "dfs = []\n",
    "\n",
    "for i in range(len(sheets)):\n",
    "    df = pd.read_excel(\"stock4.xlsx\", sheet_name=i, header=9, usecols=\"B,F:N\")\n",
    "    \n",
    "    # renaming columns\n",
    "    df = df.rename({'Unnamed: 1': 'Дата', 'Кол-во (т).1': 'вес', 'Марка цемента': 'Портландцемент Марки',\n",
    "                    '№авто': 'Ваг./маш.', 'Грузополучатель ': 'Грузополучатель',\n",
    "                    'Стоимость доставки': 'Ставка перевозки, руб/тн с НДС',\n",
    "                    'Сумма доставки (1 м)': 'Ставка перевозки, руб/маш. с НДС',\n",
    "                    '№ накл.': 'Ж.д. накладная / ТТН'}, axis=1)\n",
    "    \n",
    "    # removing blank lines in a column 'Грузополучатель'\n",
    "    df = df.dropna(subset=['Грузополучатель'])\n",
    "    \n",
    "    # converting the date to the required format\n",
    "    df['Дата'] = pd.to_datetime(df['Дата'], errors='ignore')\n",
    "    df['Дата'] = df['Дата'].dt.strftime('%d.%m.%Y')\n",
    "    \n",
    "    # removing blank columns\n",
    "    df = df.dropna(how='all', axis=1)\n",
    "    \n",
    "    # creating and filling the columns according to the input data\n",
    "    df['Тип вагона / +кто нанимал перевозчика'] = 'ООО \"Наша Третья Компания\"'\n",
    "    df['Закупка товара осуществляется от компании (внутренняя)'] = 'ООО \"Наша Компания\"'\n",
    "    df['Грузоотправитель'] = 'Склад № 4'\n",
    "    df['Договор продажи заключен от компании:'] = 'ООО \"Наша Третья Компания\"'\n",
    "    df['Поставщик'] = 'перевалка'\n",
    "    df['Покупатель'] = df['Грузополучатель']\n",
    "    df['Ставка перевозки, руб/тн с НДС'] = 300.00\n",
    "    df['Ставка перевозки, руб/маш. с НДС'] = df['Ставка перевозки, руб/тн с НДС'] * df['вес']\n",
    "    \n",
    "    dfs.append(df)"
   ]
  },
  {
   "cell_type": "code",
   "execution_count": 17,
   "id": "32c09838",
   "metadata": {
    "ExecuteTime": {
     "end_time": "2023-09-20T14:37:02.152993Z",
     "start_time": "2023-09-20T14:37:02.139675Z"
    }
   },
   "outputs": [],
   "source": [
    "# data concatenation\n",
    "stock_4 = pd.concat([dfs[0], dfs[1]], axis=0)\n",
    "stock_4 = stock_4.sort_values('Дата', ascending=True)"
   ]
  },
  {
   "cell_type": "code",
   "execution_count": 18,
   "id": "42b3a2fe",
   "metadata": {
    "ExecuteTime": {
     "end_time": "2023-09-20T14:37:02.168878Z",
     "start_time": "2023-09-20T14:37:02.154951Z"
    }
   },
   "outputs": [],
   "source": [
    "# calculating empty columns\n",
    "missing_col_s4 = list(set(columns_total) - set(stock_4.columns))"
   ]
  },
  {
   "cell_type": "code",
   "execution_count": 19,
   "id": "0f8d0fd4",
   "metadata": {
    "ExecuteTime": {
     "end_time": "2023-09-20T14:37:02.184843Z",
     "start_time": "2023-09-20T14:37:02.171878Z"
    }
   },
   "outputs": [],
   "source": [
    "# filling the columns with NaT values\n",
    "for i in missing_col_s4:\n",
    "    stock_4[i] = pd.NaT "
   ]
  },
  {
   "cell_type": "code",
   "execution_count": 20,
   "id": "aa247c01",
   "metadata": {
    "ExecuteTime": {
     "end_time": "2023-09-20T14:37:02.200183Z",
     "start_time": "2023-09-20T14:37:02.187820Z"
    }
   },
   "outputs": [],
   "source": [
    "# assigning the required column order\n",
    "stock_4 = stock_4[columns_total]"
   ]
  },
  {
   "cell_type": "markdown",
   "id": "6b408396",
   "metadata": {},
   "source": [
    "## Combining all registers into a common one"
   ]
  },
  {
   "cell_type": "code",
   "execution_count": 21,
   "id": "27b22723",
   "metadata": {
    "ExecuteTime": {
     "end_time": "2023-09-20T14:37:02.216173Z",
     "start_time": "2023-09-20T14:37:02.203203Z"
    }
   },
   "outputs": [],
   "source": [
    "total_all = pd.concat([stock_1, stock_2, stock_3, stock_4], axis=0)\n",
    "total_all = total_all.sort_values('Дата', ascending=True)"
   ]
  },
  {
   "cell_type": "markdown",
   "id": "d1758b8e",
   "metadata": {},
   "source": [
    "## Loading managers from an input file"
   ]
  },
  {
   "cell_type": "code",
   "execution_count": 22,
   "id": "9de94cab",
   "metadata": {
    "ExecuteTime": {
     "end_time": "2023-09-20T14:37:02.247880Z",
     "start_time": "2023-09-20T14:37:02.218145Z"
    }
   },
   "outputs": [],
   "source": [
    "managers = pd.read_excel('model.xlsx', sheet_name='Менеджер')"
   ]
  },
  {
   "cell_type": "markdown",
   "id": "0cbc62e4",
   "metadata": {},
   "source": [
    "## Filling out the column with manager names depending on the name of the counterparty"
   ]
  },
  {
   "cell_type": "code",
   "execution_count": 23,
   "id": "7561ab18",
   "metadata": {
    "ExecuteTime": {
     "end_time": "2023-09-20T14:37:02.262904Z",
     "start_time": "2023-09-20T14:37:02.249894Z"
    }
   },
   "outputs": [],
   "source": [
    "total_all = pd.merge(total_all, managers, on=['Грузополучатель'], how='left')\n",
    "total_all['Менеджер_x'] = total_all['Менеджер_y']\n",
    "total_all.drop('Менеджер_y', axis=1, inplace=True)\n",
    "total_all.columns = [columns_total]"
   ]
  },
  {
   "cell_type": "markdown",
   "id": "fd4843ec",
   "metadata": {},
   "source": [
    "## Loading an output file template using openpyxl"
   ]
  },
  {
   "cell_type": "code",
   "execution_count": 24,
   "id": "3b0b6910",
   "metadata": {
    "ExecuteTime": {
     "end_time": "2023-09-20T14:37:02.501311Z",
     "start_time": "2023-09-20T14:37:02.265421Z"
    }
   },
   "outputs": [],
   "source": [
    "wb = ox.load_workbook('model.xlsx')\n",
    "sheet = wb[\"АВТО\"]"
   ]
  },
  {
   "cell_type": "markdown",
   "id": "e5600f7d",
   "metadata": {},
   "source": [
    "## Defining the starting fill cell data"
   ]
  },
  {
   "cell_type": "code",
   "execution_count": 25,
   "id": "8b70bea1",
   "metadata": {
    "ExecuteTime": {
     "end_time": "2023-09-20T14:37:02.516518Z",
     "start_time": "2023-09-20T14:37:02.503308Z"
    }
   },
   "outputs": [],
   "source": [
    "startrow = 4\n",
    "startcol = 2"
   ]
  },
  {
   "cell_type": "markdown",
   "id": "e93c8430",
   "metadata": {},
   "source": [
    "## Adding to total table with necessary format"
   ]
  },
  {
   "cell_type": "code",
   "execution_count": 26,
   "id": "4ce4dd0f",
   "metadata": {
    "ExecuteTime": {
     "end_time": "2023-09-20T14:37:03.116314Z",
     "start_time": "2023-09-20T14:37:02.518803Z"
    }
   },
   "outputs": [],
   "source": [
    "for ir in range(0, len(total_all)):\n",
    "    for ic in range(0, len(total_all.iloc[ir])):\n",
    "        wb[\"АВТО\"].cell(startrow + ir, startcol + ic).value = total_all.iloc[ir][ic]\n",
    "        sheet[\"A{}\".format(startrow + ir)].value = startrow + ir - 3\n",
    "\n",
    "sheet.auto_filter.ref = \"A3:X3\"\n",
    "sheet.freeze_panes = \"B4\""
   ]
  },
  {
   "cell_type": "markdown",
   "id": "b2f769ae",
   "metadata": {},
   "source": [
    "## Saving the final data in the required format"
   ]
  },
  {
   "cell_type": "code",
   "execution_count": 27,
   "id": "081572a5",
   "metadata": {
    "ExecuteTime": {
     "end_time": "2023-09-20T14:37:03.368090Z",
     "start_time": "2023-09-20T14:37:03.119316Z"
    }
   },
   "outputs": [],
   "source": [
    "wb.save('total.xlsx')"
   ]
  },
  {
   "cell_type": "code",
   "execution_count": null,
   "id": "5a76d5ec",
   "metadata": {},
   "outputs": [],
   "source": []
  }
 ],
 "metadata": {
  "kernelspec": {
   "display_name": "Python 3 (ipykernel)",
   "language": "python",
   "name": "python3"
  },
  "language_info": {
   "codemirror_mode": {
    "name": "ipython",
    "version": 3
   },
   "file_extension": ".py",
   "mimetype": "text/x-python",
   "name": "python",
   "nbconvert_exporter": "python",
   "pygments_lexer": "ipython3",
   "version": "3.9.12"
  }
 },
 "nbformat": 4,
 "nbformat_minor": 5
}
