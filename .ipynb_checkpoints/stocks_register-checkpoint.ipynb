{
 "cells": [
  {
   "cell_type": "code",
   "execution_count": 1,
   "id": "6ddc3ea6",
   "metadata": {
    "ExecuteTime": {
     "end_time": "2023-09-19T13:52:59.475427Z",
     "start_time": "2023-09-19T13:52:58.266486Z"
    }
   },
   "outputs": [],
   "source": [
    "import pandas as pd\n",
    "import openpyxl as ox"
   ]
  },
  {
   "cell_type": "markdown",
   "id": "2383674d",
   "metadata": {},
   "source": [
    "## Create a column heading template for the output file"
   ]
  },
  {
   "cell_type": "code",
   "execution_count": 2,
   "id": "6ab2a728",
   "metadata": {
    "ExecuteTime": {
     "end_time": "2023-09-19T13:53:00.473977Z",
     "start_time": "2023-09-19T13:53:00.453008Z"
    }
   },
   "outputs": [],
   "source": [
    "columns_total = ['Менеджер',\n",
    "                 'Дата',\n",
    "                 'Ваг./маш.',\n",
    "                 'Ж.д. накладная / ТТН',\n",
    "                 'Тип вагона / +кто нанимал перевозчика',\n",
    "                 'Вид доставки',\n",
    "                 'Закупка товара осуществляется от компании (внутренняя)',\n",
    "                 'Поставщик',\n",
    "                 'Договор закупки №',\n",
    "                 'Грузоотправитель',\n",
    "                 'Станция/Пункт отпр.',\n",
    "                 'Договор продажи заключен от компании:',\n",
    "                 'Покупатель',\n",
    "                 'Грузополучатель',\n",
    "                 'Адрес доставки',\n",
    "                 'Портландцемент Марки',\n",
    "                 'вес',\n",
    "                 'Ставка перевозки, руб/тн с НДС',\n",
    "                 'Ставка перевозки, руб/маш. с НДС',\n",
    "                 'Ставка ГСР',\n",
    "                 'Налиие ттн ',\n",
    "                 'УСЛУГИ ГСР:',\n",
    "                 'Комментарии ',\n",
    "                ]"
   ]
  },
  {
   "cell_type": "markdown",
   "id": "92a90b62",
   "metadata": {},
   "source": [
    "## Processing incoming excel files: data cleaning and bringing data to the required format\n",
    "### Stock 1"
   ]
  },
  {
   "cell_type": "code",
   "execution_count": 3,
   "id": "c8dd7069",
   "metadata": {
    "ExecuteTime": {
     "end_time": "2023-09-19T13:53:02.513134Z",
     "start_time": "2023-09-19T13:53:02.374494Z"
    }
   },
   "outputs": [],
   "source": [
    "stock_1 = pd.read_excel('stock1.xlsx', sheet_name=-1, header=10, usecols=\"B,F:I\")\n",
    "stock_1 = stock_1.rename({'Unnamed: 1': 'Дата', 'Кол-во (т).1': 'вес', '№ накл': 'Ж.д. накладная / ТТН',\n",
    "                    '№авто': 'Ваг./маш.', 'Грузополучатель ': 'Грузополучатель'}, axis=1)\n",
    "stock_1 = stock_1.dropna(subset=['Ж.д. накладная / ТТН'])\n",
    "stock_1['Дата'] = pd.to_datetime(stock_1['Дата'], errors='ignore')\n",
    "stock_1['Дата'] = stock_1['Дата'].dt.strftime('%d.%m.%Y')\n",
    "stock_1['Адрес доставки'] = pd.NaT  #\n",
    "stock_1['Вид доставки'] = pd.NaT  #\n",
    "stock_1['Грузоотправитель'] = 'Склад № 1'\n",
    "stock_1['Договор закупки №'] = '-'\n",
    "stock_1['Договор продажи заключен от компании:'] = pd.NaT  #\n",
    "stock_1['Закупка товара осуществляется от компании (внутренняя)'] = 'ООО \"Наша Компания\"'\n",
    "stock_1['Комментарии '] = pd.NaT  #\n",
    "stock_1['Менеджер'] = pd.NaT  #\n",
    "stock_1['Налиие ттн '] = pd.NaT\n",
    "stock_1['Покупатель'] = stock_1['Грузополучатель']\n",
    "stock_1['Портландцемент Марки'] = 'Цемент ЦЕМ I 42,5Н Навал'\n",
    "stock_1['Поставщик'] = 'перевалка'\n",
    "stock_1['Ставка ГСР'] = pd.NaT  #\n",
    "stock_1['Ставка перевозки, руб/маш. с НДС'] = pd.NaT  #\n",
    "stock_1['Ставка перевозки, руб/тн с НДС'] = pd.NaT  #\n",
    "stock_1['Станция/Пункт отпр.'] = '-'\n",
    "stock_1['Тип вагона / +кто нанимал перевозчика'] = pd.NaT  #\n",
    "stock_1['УСЛУГИ ГСР:'] = pd.NaT\n",
    "stock_1 = stock_1[columns_total]"
   ]
  },
  {
   "cell_type": "markdown",
   "id": "bf0a720b",
   "metadata": {},
   "source": [
    "### Stock 2"
   ]
  },
  {
   "cell_type": "code",
   "execution_count": 4,
   "id": "5475a644",
   "metadata": {
    "ExecuteTime": {
     "end_time": "2023-09-19T13:53:04.674893Z",
     "start_time": "2023-09-19T13:53:04.437240Z"
    }
   },
   "outputs": [],
   "source": [
    "# handling stock_2-file - loop for 2 sheets\n",
    "sheets = [-2, -1]\n",
    "dfs = []\n",
    "\n",
    "for name in sheets:\n",
    "    df = pd.read_excel(\"stock2.xlsx\", sheet_name=name, header=9, usecols=\"F:H, J, L\")\n",
    "    df = df[1:]\n",
    "    df = df.rename({'Unnamed: 5': 'Дата', 'Кол-во (т).1': 'вес', 'Unnamed: 7': 'Ж.д. накладная / ТТН',\n",
    "                    '№авто': 'Ваг./маш.', 'Грузополучатель ': 'Грузополучатель'}, axis=1)\n",
    "    df = df.dropna(subset=['Ваг./маш.'])\n",
    "    df['Дата'] = pd.to_datetime(df['Дата'], errors='ignore')\n",
    "    df['Дата'] = df['Дата'].dt.strftime('%d.%m.%Y')\n",
    "    dfs.append(df)\n",
    "\n",
    "stock_2 = pd.concat([dfs[0], dfs[1]], axis=0)\n",
    "stock_2 = stock_2.sort_values('Дата', ascending=True)\n",
    "\n",
    "stock_2['Адрес доставки'] = pd.NaT  #\n",
    "stock_2['Вид доставки'] = pd.NaT  #\n",
    "stock_2['Грузоотправитель'] = 'Склад № 2'\n",
    "stock_2['Договор закупки №'] = '-'\n",
    "stock_2['Договор продажи заключен от компании:'] = pd.NaT  #\n",
    "stock_2['Закупка товара осуществляется от компании (внутренняя)'] = 'ООО \"Наша Компания\"'\n",
    "stock_2['Комментарии '] = pd.NaT  #\n",
    "stock_2['Менеджер'] = pd.NaT  #\n",
    "stock_2['Налиие ттн '] = pd.NaT\n",
    "stock_2['Покупатель'] = stock_2['Грузополучатель']\n",
    "stock_2['Портландцемент Марки'] = pd.NaT  #\n",
    "stock_2['Поставщик'] = 'перевалка'\n",
    "stock_2['Ставка ГСР'] = pd.NaT  #\n",
    "stock_2['Ставка перевозки, руб/маш. с НДС'] = pd.NaT  #\n",
    "stock_2['Ставка перевозки, руб/тн с НДС'] = pd.NaT  #\n",
    "stock_2['Станция/Пункт отпр.'] = '-'\n",
    "stock_2['Тип вагона / +кто нанимал перевозчика'] = pd.NaT  #\n",
    "stock_2['УСЛУГИ ГСР:'] = pd.NaT\n",
    "stock_2 = stock_2[columns_total]"
   ]
  },
  {
   "cell_type": "markdown",
   "id": "6b97e9b6",
   "metadata": {},
   "source": [
    "### Stock 3"
   ]
  },
  {
   "cell_type": "code",
   "execution_count": 5,
   "id": "6ba1142a",
   "metadata": {
    "ExecuteTime": {
     "end_time": "2023-09-19T13:53:06.495242Z",
     "start_time": "2023-09-19T13:53:06.434129Z"
    }
   },
   "outputs": [],
   "source": [
    "stock_3 = pd.read_excel(\"stock3.xlsx\", sheet_name=0, header=3)\n",
    "stock_3 = stock_3.rename({'Номер накладной': 'Ж.д. накладная / ТТН', 'Дата накладной': 'Дата',\n",
    "                    'Номенклатура': 'Портландцемент Марки', 'Количество в основной ЕИ': 'вес',\n",
    "                    'Номер машины': 'Ваг./маш.'}, axis=1)\n",
    "stock_3 = stock_3.drop('Ф.И.О. водителя', axis=1)\n",
    "stock_3['Вид доставки'] = pd.NaT  # 'Поставщик'\n",
    "stock_3['Договор закупки №'] = 'ЦЕМ/147-2021'\n",
    "stock_3['Договор продажи заключен от компании:'] = 'ООО \"Наша Компания\"'\n",
    "stock_3['Закупка товара осуществляется от компании (внутренняя)'] = 'ООО \"Вторая Наша Компания\"'\n",
    "stock_3['Комментарии '] = pd.NaT\n",
    "stock_3['Менеджер'] = pd.NaT\n",
    "stock_3['Налиие ттн '] = pd.NaT\n",
    "stock_3['Покупатель'] = stock_3['Грузополучатель']\n",
    "stock_3['Поставщик'] = 'ООО \"Наш Поставщик\"'\n",
    "stock_3['Ставка ГСР'] = pd.NaT\n",
    "stock_3['Ставка перевозки, руб/маш. с НДС'] = pd.NaT\n",
    "stock_3['Ставка перевозки, руб/тн с НДС'] = pd.NaT\n",
    "stock_3['Станция/Пункт отпр.'] = '-'\n",
    "stock_3['Тип вагона / +кто нанимал перевозчика'] = '-'\n",
    "stock_3['УСЛУГИ ГСР:'] = pd.NaT\n",
    "stock_3 = stock_3[columns_total]\n",
    "stock_3['Дата'] = pd.to_datetime(stock_3['Дата'], errors='ignore')\n",
    "stock_3['Дата'] = stock_3['Дата'].dt.strftime('%d.%m.%Y')\n",
    "stock_3 = stock_3.sort_values('Дата', ascending=True)"
   ]
  },
  {
   "cell_type": "markdown",
   "id": "6e93466b",
   "metadata": {},
   "source": [
    "### Stock 4"
   ]
  },
  {
   "cell_type": "code",
   "execution_count": 6,
   "id": "564fb4e6",
   "metadata": {
    "ExecuteTime": {
     "end_time": "2023-09-19T13:53:08.798218Z",
     "start_time": "2023-09-19T13:53:08.587639Z"
    }
   },
   "outputs": [],
   "source": [
    "sheets = [\"мордва\", \"питер\"]\n",
    "dfs = []\n",
    "\n",
    "for i in range(len(sheets)):\n",
    "    df = pd.read_excel(\"stock4.xlsx\", sheet_name=i, header=9, usecols=\"B,F:N\")\n",
    "    df = df.rename({'Unnamed: 1': 'Дата', 'Кол-во (т).1': 'вес', 'Марка цемента': 'Портландцемент Марки',\n",
    "                    '№авто': 'Ваг./маш.', 'Грузополучатель ': 'Грузополучатель',\n",
    "                    'Стоимость доставки': 'Ставка перевозки, руб/тн с НДС',\n",
    "                    'Сумма доставки (1 м)': 'Ставка перевозки, руб/маш. с НДС',\n",
    "                    '№ накл.': 'Ж.д. накладная / ТТН'}, axis=1)\n",
    "\n",
    "    df = df.dropna(subset=['Грузополучатель'])\n",
    "    df['Дата'] = pd.to_datetime(df['Дата'], errors='ignore')\n",
    "    df['Дата'] = df['Дата'].dt.strftime('%d.%m.%Y')\n",
    "    df = df.dropna(how='all', axis=1)\n",
    "    df['Тип вагона / +кто нанимал перевозчика'] = 'ООО \"Наша Третья Компания\"'\n",
    "    df['Менеджер'] = pd.NaT\n",
    "    df['Вид доставки'] = pd.NaT\n",
    "    df['Закупка товара осуществляется от компании (внутренняя)'] = 'ООО \"Наша Компания\"'\n",
    "    df['Поставщик'] = 'перевалка'\n",
    "    df['Договор закупки №'] = '-'\n",
    "    df['Грузоотправитель'] = 'Склад № 4'\n",
    "    df['Станция/Пункт отпр.'] = '-'\n",
    "    df['Договор продажи заключен от компании:'] = 'ООО \"Наша Третья Компания\"'\n",
    "    df['Покупатель'] = df['Грузополучатель']\n",
    "    df['Адрес доставки'] = pd.NaT\n",
    "    df['Ставка перевозки, руб/тн с НДС'] = 300.00\n",
    "    df['Ставка перевозки, руб/маш. с НДС'] = df['Ставка перевозки, руб/тн с НДС'] * df['вес']\n",
    "    df['Ставка ГСР'] = pd.NaT\n",
    "    df['Налиие ттн '] = pd.NaT\n",
    "    df['УСЛУГИ ГСР:'] = pd.NaT\n",
    "    df['Комментарии '] = pd.NaT\n",
    "    df = df[columns_total]\n",
    "    dfs.append(df)\n",
    "\n",
    "stock_4 = pd.concat([dfs[0], dfs[1]], axis=0)\n",
    "stock_4 = stock_4.sort_values('Дата', ascending=True)"
   ]
  },
  {
   "cell_type": "markdown",
   "id": "8e66e58d",
   "metadata": {},
   "source": [
    "## Combining all registers into a common one"
   ]
  },
  {
   "cell_type": "code",
   "execution_count": 7,
   "id": "39cda5d6",
   "metadata": {
    "ExecuteTime": {
     "end_time": "2023-09-19T13:53:10.310353Z",
     "start_time": "2023-09-19T13:53:10.285484Z"
    }
   },
   "outputs": [],
   "source": [
    "total_all = pd.concat([stock_1, stock_2, stock_3, stock_4], axis=0)\n",
    "total_all = total_all.sort_values('Дата', ascending=True)"
   ]
  },
  {
   "cell_type": "markdown",
   "id": "5c610906",
   "metadata": {},
   "source": [
    "## Loading managers from an input file"
   ]
  },
  {
   "cell_type": "code",
   "execution_count": 8,
   "id": "ebc21eb1",
   "metadata": {
    "ExecuteTime": {
     "end_time": "2023-09-19T13:53:13.614074Z",
     "start_time": "2023-09-19T13:53:13.574014Z"
    }
   },
   "outputs": [],
   "source": [
    "managers = pd.read_excel('model.xlsx', sheet_name='Менеджер')"
   ]
  },
  {
   "cell_type": "markdown",
   "id": "b22e12c1",
   "metadata": {},
   "source": [
    "## Filling out the column with manager names"
   ]
  },
  {
   "cell_type": "code",
   "execution_count": 9,
   "id": "3511cc62",
   "metadata": {
    "ExecuteTime": {
     "end_time": "2023-09-19T13:53:15.501221Z",
     "start_time": "2023-09-19T13:53:15.476337Z"
    }
   },
   "outputs": [],
   "source": [
    "total_all = pd.merge(total_all, managers, on=['Грузополучатель'], how='left')\n",
    "total_all['Менеджер_x'] = total_all['Менеджер_y']\n",
    "total_all.drop('Менеджер_y', axis=1, inplace=True)\n",
    "total_all.columns = [columns_total]"
   ]
  },
  {
   "cell_type": "markdown",
   "id": "686dbb22",
   "metadata": {},
   "source": [
    "## Loading an output file template using openpyxl"
   ]
  },
  {
   "cell_type": "code",
   "execution_count": 13,
   "id": "60fbd3bb",
   "metadata": {
    "ExecuteTime": {
     "end_time": "2023-09-19T13:54:00.923222Z",
     "start_time": "2023-09-19T13:54:00.555651Z"
    }
   },
   "outputs": [],
   "source": [
    "# opening format book/sheet\n",
    "wb = ox.load_workbook('model.xlsx')\n",
    "sheet = wb[\"АВТО\"]"
   ]
  },
  {
   "cell_type": "markdown",
   "id": "3cdcd698",
   "metadata": {},
   "source": [
    "## Line numbering"
   ]
  },
  {
   "cell_type": "code",
   "execution_count": 14,
   "id": "e1495934",
   "metadata": {
    "ExecuteTime": {
     "end_time": "2023-09-19T13:54:03.634522Z",
     "start_time": "2023-09-19T13:54:03.624102Z"
    }
   },
   "outputs": [],
   "source": [
    "def start_row():\n",
    "    \"\"\"Start from 4th row and run down by table and find first not int cell in column A\"\"\"\n",
    "    y = 4\n",
    "    while type(sheet['A{}'.format(y)].value) == int:\n",
    "        y += 1\n",
    "    return y"
   ]
  },
  {
   "cell_type": "markdown",
   "id": "f5876d82",
   "metadata": {},
   "source": [
    "## Defining the starting fill cell data"
   ]
  },
  {
   "cell_type": "code",
   "execution_count": null,
   "id": "93d276cf",
   "metadata": {
    "ExecuteTime": {
     "end_time": "2023-09-19T13:54:06.843977Z",
     "start_time": "2023-09-19T13:54:05.682897Z"
    }
   },
   "outputs": [],
   "source": [
    "# defining start cell\n",
    "startrow = start_row()\n",
    "startcol = 2"
   ]
  },
  {
   "cell_type": "markdown",
   "id": "7378b7bf",
   "metadata": {},
   "source": [
    "## Adding to total table with necessary format"
   ]
  },
  {
   "cell_type": "code",
   "execution_count": null,
   "id": "1d3c9d77",
   "metadata": {
    "ExecuteTime": {
     "end_time": "2023-09-19T13:54:06.843977Z",
     "start_time": "2023-09-19T13:54:05.682897Z"
    }
   },
   "outputs": [],
   "source": [
    "for ir in range(0, len(total_all)):\n",
    "    for ic in range(0, len(total_all.iloc[ir])):\n",
    "        wb[\"АВТО\"].cell(startrow + ir, startcol + ic).value = total_all.iloc[ir][ic]\n",
    "        sheet[\"A{}\".format(startrow + ir)].value = startrow + ir - 3\n",
    "\n",
    "sheet.auto_filter.ref = \"A3:X3\"\n",
    "sheet.freeze_panes = \"B4\""
   ]
  },
  {
   "cell_type": "markdown",
   "id": "b67155aa",
   "metadata": {},
   "source": [
    "## Saving the final data in the required format"
   ]
  },
  {
   "cell_type": "code",
   "execution_count": 15,
   "id": "9b9f2558",
   "metadata": {
    "ExecuteTime": {
     "end_time": "2023-09-19T13:54:06.843977Z",
     "start_time": "2023-09-19T13:54:05.682897Z"
    }
   },
   "outputs": [],
   "source": [
    "wb.save('total.xlsx')"
   ]
  },
  {
   "cell_type": "code",
   "execution_count": null,
   "id": "c6534b21",
   "metadata": {},
   "outputs": [],
   "source": []
  }
 ],
 "metadata": {
  "kernelspec": {
   "display_name": "Python 3 (ipykernel)",
   "language": "python",
   "name": "python3"
  },
  "language_info": {
   "codemirror_mode": {
    "name": "ipython",
    "version": 3
   },
   "file_extension": ".py",
   "mimetype": "text/x-python",
   "name": "python",
   "nbconvert_exporter": "python",
   "pygments_lexer": "ipython3",
   "version": "3.9.12"
  }
 },
 "nbformat": 4,
 "nbformat_minor": 5
}
