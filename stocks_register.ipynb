{
 "cells": [
  {
   "cell_type": "code",
   "execution_count": 1,
   "id": "6ddc3ea6",
   "metadata": {
    "ExecuteTime": {
     "end_time": "2023-09-18T09:03:59.505813Z",
     "start_time": "2023-09-18T09:03:57.952188Z"
    }
   },
   "outputs": [],
   "source": [
    "import pandas as pd\n",
    "import openpyxl as ox"
   ]
  },
  {
   "cell_type": "code",
   "execution_count": null,
   "id": "5b4b9a9d",
   "metadata": {},
   "outputs": [],
   "source": []
  },
  {
   "cell_type": "markdown",
   "id": "fe07b267",
   "metadata": {},
   "source": [
    "### Create a column heading template for the output file"
   ]
  },
  {
   "cell_type": "code",
   "execution_count": 2,
   "id": "00786a03",
   "metadata": {
    "ExecuteTime": {
     "end_time": "2023-09-18T09:03:59.521391Z",
     "start_time": "2023-09-18T09:03:59.508435Z"
    }
   },
   "outputs": [],
   "source": [
    "columns_total = ['Менеджер',\n",
    "                 'Дата',\n",
    "                 'Ваг./маш.',\n",
    "                 'Ж.д. накладная / ТТН',\n",
    "                 'Тип вагона / +кто нанимал перевозчика',\n",
    "                 'Вид доставки',\n",
    "                 'Закупка товара осуществляется от компании (внутренняя)',\n",
    "                 'Поставщик',\n",
    "                 'Договор закупки №',\n",
    "                 'Грузоотправитель',\n",
    "                 'Станция/Пункт отпр.',\n",
    "                 'Договор продажи заключен от компании:',\n",
    "                 'Покупатель',\n",
    "                 'Грузополучатель',\n",
    "                 'Адрес доставки',\n",
    "                 'Портландцемент Марки',\n",
    "                 'вес',\n",
    "                 'Ставка перевозки, руб/тн с НДС',\n",
    "                 'Ставка перевозки, руб/маш. с НДС',\n",
    "                 'Ставка ГСР',\n",
    "                 'Налиие ттн ',\n",
    "                 'УСЛУГИ ГСР:',\n",
    "                 'Комментарии ',\n",
    "                ]"
   ]
  },
  {
   "cell_type": "code",
   "execution_count": null,
   "id": "27c738c4",
   "metadata": {},
   "outputs": [],
   "source": []
  },
  {
   "cell_type": "code",
   "execution_count": null,
   "id": "f76fc2fe",
   "metadata": {},
   "outputs": [],
   "source": []
  },
  {
   "cell_type": "markdown",
   "id": "f3df6135",
   "metadata": {},
   "source": [
    "## Processing incoming excel files: data cleaning and bringing data to the required format\n",
    "### Stock 1"
   ]
  },
  {
   "cell_type": "code",
   "execution_count": 3,
   "id": "f27523e3",
   "metadata": {
    "ExecuteTime": {
     "end_time": "2023-09-18T09:03:59.630118Z",
     "start_time": "2023-09-18T09:03:59.523385Z"
    }
   },
   "outputs": [],
   "source": [
    "stock_1 = pd.read_excel('stock1.xlsx', sheet_name=-1, header=10, usecols=\"B,F:I\")\n",
    "stock_1 = stock_1.rename({'Unnamed: 1': 'Дата', 'Кол-во (т).1': 'вес', '№ накл': 'Ж.д. накладная / ТТН',\n",
    "                    '№авто': 'Ваг./маш.', 'Грузополучатель ': 'Грузополучатель'}, axis=1)\n",
    "stock_1 = stock_1.dropna(subset=['Ж.д. накладная / ТТН'])\n",
    "stock_1['Дата'] = pd.to_datetime(stock_1['Дата'], errors='ignore')\n",
    "stock_1['Дата'] = stock_1['Дата'].dt.strftime('%d.%m.%Y')\n",
    "stock_1['Адрес доставки'] = pd.NaT  #\n",
    "stock_1['Вид доставки'] = pd.NaT  #\n",
    "stock_1['Грузоотправитель'] = 'Склад № 1'\n",
    "stock_1['Договор закупки №'] = '-'\n",
    "stock_1['Договор продажи заключен от компании:'] = pd.NaT  #\n",
    "stock_1['Закупка товара осуществляется от компании (внутренняя)'] = 'ООО \"Наша Компания\"'\n",
    "stock_1['Комментарии '] = pd.NaT  #\n",
    "stock_1['Менеджер'] = pd.NaT  #\n",
    "stock_1['Налиие ттн '] = pd.NaT\n",
    "stock_1['Покупатель'] = stock_1['Грузополучатель']\n",
    "stock_1['Портландцемент Марки'] = 'Цемент ЦЕМ I 42,5Н Навал'\n",
    "stock_1['Поставщик'] = 'перевалка'\n",
    "stock_1['Ставка ГСР'] = pd.NaT  #\n",
    "stock_1['Ставка перевозки, руб/маш. с НДС'] = pd.NaT  #\n",
    "stock_1['Ставка перевозки, руб/тн с НДС'] = pd.NaT  #\n",
    "stock_1['Станция/Пункт отпр.'] = '-'\n",
    "stock_1['Тип вагона / +кто нанимал перевозчика'] = pd.NaT  #\n",
    "stock_1['УСЛУГИ ГСР:'] = pd.NaT\n",
    "stock_1 = stock_1[columns_total]"
   ]
  },
  {
   "cell_type": "markdown",
   "id": "a5267147",
   "metadata": {},
   "source": [
    "### Stock 2"
   ]
  },
  {
   "cell_type": "code",
   "execution_count": 4,
   "id": "5d361ecc",
   "metadata": {
    "ExecuteTime": {
     "end_time": "2023-09-18T09:03:59.770730Z",
     "start_time": "2023-09-18T09:03:59.632372Z"
    }
   },
   "outputs": [],
   "source": [
    "# handling stock_2-file - loop for 2 sheets\n",
    "sheets = [-2, -1]\n",
    "dfs = []\n",
    "\n",
    "for name in sheets:\n",
    "    df = pd.read_excel(\"stock2.xlsx\", sheet_name=name, header=9, usecols=\"F:H, J, L\")\n",
    "    df = df[1:]\n",
    "    df = df.rename({'Unnamed: 5': 'Дата', 'Кол-во (т).1': 'вес', 'Unnamed: 7': 'Ж.д. накладная / ТТН',\n",
    "                    '№авто': 'Ваг./маш.', 'Грузополучатель ': 'Грузополучатель'}, axis=1)\n",
    "    df = df.dropna(subset=['Ваг./маш.'])\n",
    "    df['Дата'] = pd.to_datetime(df['Дата'], errors='ignore')\n",
    "    df['Дата'] = df['Дата'].dt.strftime('%d.%m.%Y')\n",
    "    dfs.append(df)\n",
    "\n",
    "stock_2 = pd.concat([dfs[0], dfs[1]], axis=0)\n",
    "stock_2 = stock_2.sort_values('Дата', ascending=True)\n",
    "\n",
    "stock_2['Адрес доставки'] = pd.NaT  #\n",
    "stock_2['Вид доставки'] = pd.NaT  #\n",
    "stock_2['Грузоотправитель'] = 'Склад № 2'\n",
    "stock_2['Договор закупки №'] = '-'\n",
    "stock_2['Договор продажи заключен от компании:'] = pd.NaT  #\n",
    "stock_2['Закупка товара осуществляется от компании (внутренняя)'] = 'ООО \"Наша Компания\"'\n",
    "stock_2['Комментарии '] = pd.NaT  #\n",
    "stock_2['Менеджер'] = pd.NaT  #\n",
    "stock_2['Налиие ттн '] = pd.NaT\n",
    "stock_2['Покупатель'] = stock_2['Грузополучатель']\n",
    "stock_2['Портландцемент Марки'] = pd.NaT  #\n",
    "stock_2['Поставщик'] = 'перевалка'\n",
    "stock_2['Ставка ГСР'] = pd.NaT  #\n",
    "stock_2['Ставка перевозки, руб/маш. с НДС'] = pd.NaT  #\n",
    "stock_2['Ставка перевозки, руб/тн с НДС'] = pd.NaT  #\n",
    "stock_2['Станция/Пункт отпр.'] = '-'\n",
    "stock_2['Тип вагона / +кто нанимал перевозчика'] = pd.NaT  #\n",
    "stock_2['УСЛУГИ ГСР:'] = pd.NaT\n",
    "stock_2 = stock_2[columns_total]"
   ]
  },
  {
   "cell_type": "markdown",
   "id": "b334a661",
   "metadata": {},
   "source": [
    "### Stock 3"
   ]
  },
  {
   "cell_type": "code",
   "execution_count": 5,
   "id": "3272e2e6",
   "metadata": {
    "ExecuteTime": {
     "end_time": "2023-09-18T09:03:59.817432Z",
     "start_time": "2023-09-18T09:03:59.772726Z"
    }
   },
   "outputs": [],
   "source": [
    "stock_3 = pd.read_excel(\"stock3.xlsx\", sheet_name=0, header=3)\n",
    "stock_3 = stock_3.rename({'Номер накладной': 'Ж.д. накладная / ТТН', 'Дата накладной': 'Дата',\n",
    "                    'Номенклатура': 'Портландцемент Марки', 'Количество в основной ЕИ': 'вес',\n",
    "                    'Номер машины': 'Ваг./маш.'}, axis=1)\n",
    "stock_3 = stock_3.drop('Ф.И.О. водителя', axis=1)\n",
    "stock_3['Вид доставки'] = pd.NaT  # 'Поставщик'\n",
    "stock_3['Договор закупки №'] = 'ЦЕМ/147-2021'\n",
    "stock_3['Договор продажи заключен от компании:'] = 'ООО \"Наша Компания\"'\n",
    "stock_3['Закупка товара осуществляется от компании (внутренняя)'] = 'ООО \"Вторая Наша Компания\"'\n",
    "stock_3['Комментарии '] = pd.NaT\n",
    "stock_3['Менеджер'] = pd.NaT\n",
    "stock_3['Налиие ттн '] = pd.NaT\n",
    "stock_3['Покупатель'] = stock_3['Грузополучатель']\n",
    "stock_3['Поставщик'] = 'ООО \"Наш Поставщик\"'\n",
    "stock_3['Ставка ГСР'] = pd.NaT\n",
    "stock_3['Ставка перевозки, руб/маш. с НДС'] = pd.NaT\n",
    "stock_3['Ставка перевозки, руб/тн с НДС'] = pd.NaT\n",
    "stock_3['Станция/Пункт отпр.'] = '-'\n",
    "stock_3['Тип вагона / +кто нанимал перевозчика'] = '-'\n",
    "stock_3['УСЛУГИ ГСР:'] = pd.NaT\n",
    "stock_3 = stock_3[columns_total]\n",
    "stock_3['Дата'] = pd.to_datetime(stock_3['Дата'], errors='ignore')\n",
    "stock_3['Дата'] = stock_3['Дата'].dt.strftime('%d.%m.%Y')\n",
    "stock_3 = stock_3.sort_values('Дата', ascending=True)"
   ]
  },
  {
   "cell_type": "markdown",
   "id": "7ee9d816",
   "metadata": {},
   "source": [
    "### Stock 4"
   ]
  },
  {
   "cell_type": "code",
   "execution_count": 6,
   "id": "27e1928f",
   "metadata": {
    "ExecuteTime": {
     "end_time": "2023-09-18T09:03:59.957983Z",
     "start_time": "2023-09-18T09:03:59.818382Z"
    }
   },
   "outputs": [],
   "source": [
    "sheets = [\"мордва\", \"питер\"]\n",
    "dfs = []\n",
    "\n",
    "for i in range(len(sheets)):\n",
    "    df = pd.read_excel(\"stock4.xlsx\", sheet_name=i, header=9, usecols=\"B,F:N\")\n",
    "    df = df.rename({'Unnamed: 1': 'Дата', 'Кол-во (т).1': 'вес', 'Марка цемента': 'Портландцемент Марки',\n",
    "                    '№авто': 'Ваг./маш.', 'Грузополучатель ': 'Грузополучатель',\n",
    "                    'Стоимость доставки': 'Ставка перевозки, руб/тн с НДС',\n",
    "                    'Сумма доставки (1 м)': 'Ставка перевозки, руб/маш. с НДС',\n",
    "                    '№ накл.': 'Ж.д. накладная / ТТН'}, axis=1)\n",
    "\n",
    "    df = df.dropna(subset=['Грузополучатель'])\n",
    "    df['Дата'] = pd.to_datetime(df['Дата'], errors='ignore')\n",
    "    df['Дата'] = df['Дата'].dt.strftime('%d.%m.%Y')\n",
    "    df = df.dropna(how='all', axis=1)\n",
    "    df['Тип вагона / +кто нанимал перевозчика'] = 'ООО \"Наша Третья Компания\"'\n",
    "    df['Менеджер'] = pd.NaT\n",
    "    df['Вид доставки'] = pd.NaT\n",
    "    df['Закупка товара осуществляется от компании (внутренняя)'] = 'ООО \"Наша Компания\"'\n",
    "    df['Поставщик'] = 'перевалка'\n",
    "    df['Договор закупки №'] = '-'\n",
    "    df['Грузоотправитель'] = 'Склад № 4'\n",
    "    df['Станция/Пункт отпр.'] = '-'\n",
    "    df['Договор продажи заключен от компании:'] = 'ООО \"Наша Третья Компания\"'\n",
    "    df['Покупатель'] = df['Грузополучатель']\n",
    "    df['Адрес доставки'] = pd.NaT\n",
    "    df['Ставка перевозки, руб/тн с НДС'] = 300.00\n",
    "    df['Ставка перевозки, руб/маш. с НДС'] = df['Ставка перевозки, руб/тн с НДС'] * df['вес']\n",
    "    df['Ставка ГСР'] = pd.NaT\n",
    "    df['Налиие ттн '] = pd.NaT\n",
    "    df['УСЛУГИ ГСР:'] = pd.NaT\n",
    "    df['Комментарии '] = pd.NaT\n",
    "    df = df[columns_total]\n",
    "    dfs.append(df)\n",
    "\n",
    "stock_4 = pd.concat([dfs[0], dfs[1]], axis=0)\n",
    "stock_4 = stock_4.sort_values('Дата', ascending=True)"
   ]
  },
  {
   "cell_type": "code",
   "execution_count": null,
   "id": "cd4938ef",
   "metadata": {},
   "outputs": [],
   "source": []
  },
  {
   "cell_type": "code",
   "execution_count": 7,
   "id": "cbfe38ae",
   "metadata": {
    "ExecuteTime": {
     "end_time": "2023-09-18T09:03:59.973306Z",
     "start_time": "2023-09-18T09:03:59.958967Z"
    }
   },
   "outputs": [],
   "source": [
    "# merging all entrance data\n",
    "total_all = pd.concat([stock_1, stock_2, stock_3, stock_4], axis=0)\n",
    "total_all = total_all.sort_values('Дата', ascending=True)"
   ]
  },
  {
   "cell_type": "code",
   "execution_count": 11,
   "id": "713efc3e",
   "metadata": {
    "ExecuteTime": {
     "end_time": "2023-09-18T09:24:12.027546Z",
     "start_time": "2023-09-18T09:24:11.641225Z"
    }
   },
   "outputs": [],
   "source": [
    "# opening format book/sheet\n",
    "wb = ox.load_workbook('model.xlsx')\n",
    "sheet = wb[\"АВТО\"]\n"
   ]
  },
  {
   "cell_type": "code",
   "execution_count": 12,
   "id": "9ec3f575",
   "metadata": {
    "ExecuteTime": {
     "end_time": "2023-09-18T09:24:16.618141Z",
     "start_time": "2023-09-18T09:24:16.599004Z"
    }
   },
   "outputs": [],
   "source": [
    "def start_row():\n",
    "    \"\"\"Start from 4th row and run down by table and find first not int cell in column A\"\"\"\n",
    "    y = 4\n",
    "    while type(sheet['A{}'.format(y)].value) == int:\n",
    "        y += 1\n",
    "    return y"
   ]
  },
  {
   "cell_type": "code",
   "execution_count": 13,
   "id": "707ad269",
   "metadata": {
    "ExecuteTime": {
     "end_time": "2023-09-18T09:24:18.312029Z",
     "start_time": "2023-09-18T09:24:17.310101Z"
    }
   },
   "outputs": [],
   "source": [
    "# defining start cell\n",
    "startrow = start_row()\n",
    "startcol = 2\n",
    "\n",
    "# adding to total table with necessary format\n",
    "for ir in range(0, len(total_all)):\n",
    "    for ic in range(0, len(total_all.iloc[ir])):\n",
    "        wb[\"АВТО\"].cell(startrow + ir, startcol + ic).value = total_all.iloc[ir][ic]\n",
    "        sheet[\"A{}\".format(startrow + ir)].value = startrow + ir - 3\n",
    "\n",
    "sheet.auto_filter.ref = \"A3:X3\"\n",
    "sheet.freeze_panes = \"B4\"\n",
    "wb.save('total.xlsx')"
   ]
  },
  {
   "cell_type": "code",
   "execution_count": null,
   "id": "2c5c6030",
   "metadata": {},
   "outputs": [],
   "source": []
  }
 ],
 "metadata": {
  "kernelspec": {
   "display_name": "Python 3 (ipykernel)",
   "language": "python",
   "name": "python3"
  },
  "language_info": {
   "codemirror_mode": {
    "name": "ipython",
    "version": 3
   },
   "file_extension": ".py",
   "mimetype": "text/x-python",
   "name": "python",
   "nbconvert_exporter": "python",
   "pygments_lexer": "ipython3",
   "version": "3.9.12"
  }
 },
 "nbformat": 4,
 "nbformat_minor": 5
}
